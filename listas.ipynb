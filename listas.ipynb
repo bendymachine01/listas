{
  "nbformat": 4,
  "nbformat_minor": 0,
  "metadata": {
    "colab": {
      "provenance": [],
      "authorship_tag": "ABX9TyPwLncuVOqHJZD2028lqXBN",
      "include_colab_link": true
    },
    "kernelspec": {
      "name": "python3",
      "display_name": "Python 3"
    },
    "language_info": {
      "name": "python"
    }
  },
  "cells": [
    {
      "cell_type": "markdown",
      "metadata": {
        "id": "view-in-github",
        "colab_type": "text"
      },
      "source": [
        "<a href=\"https://colab.research.google.com/github/bendymachine01/listas/blob/main/listas.ipynb\" target=\"_parent\"><img src=\"https://colab.research.google.com/assets/colab-badge.svg\" alt=\"Open In Colab\"/></a>"
      ]
    },
    {
      "cell_type": "markdown",
      "source": [
        "# Listas\n",
        "\n",
        "- Una lista hace referencia a una collecion de datos que puedenser numeros, cadenas o algun otro tipo\n",
        "- Son colleciones ordenadas de datos lo que implica que importa el orden en el cual se encuentren suselementos\n",
        "- El primer elemento ocup 0, el segundo 1,y as sucesivamente.\n",
        "- Son mutables: una vez creada la lista, esta puede modificarse, se le puede agregar o quitar elementos.\n",
        "- En pythn estan representadas por el tipo **list** y para defenirlas se utilizan as siguientes sintaxis:\n",
        "\n",
        "```nombre_lista = [valor1, valor2,...,valorn]```\n",
        "\n",
        "- los elementos pueden ser de diferentes tipos, incloso pueden haber diferentes en una mima lista\n",
        "-tambien esposible crearusando el constuctor ```list()```"
      ],
      "metadata": {
        "id": "AtoqXf9HCmWo"
      }
    },
    {
      "cell_type": "code",
      "source": [
        "# Ejemplo 1\n",
        "\n",
        "#=========================================================\n",
        "# Usando los [] y dando valores para inicializar la lista\n",
        "#=========================================================\n",
        "\n",
        "dias_laborables = ['Lunes','Martes','Miercoles','Jueves','Viernes']\n",
        "print(dias_laborables)\n",
        "\n",
        "colores_primarios = ['Rojo','Amarillo','Azul']\n",
        "print(colores_primarios)\n",
        "\n",
        "precios =[205.30, 187.18, 25, 310.89, 170.23, 340]\n",
        "print(precios)\n",
        "print(type(precios))\n",
        "mezcolanza = [12, \"octubre\", 1942, True]\n",
        "lista_vacia = []\n",
        "\n",
        "#=====================================================\n",
        "# Usando el contrutor list()\n",
        "#=====================================================\n",
        "lista_vacia_2 = list()\n",
        "lista_3 = list(range(0,30,2))\n",
        "print(lista_3)\n",
        "lista_4 = list(range(29, 0, -2))\n",
        "print(lista_4)\n",
        "lista_5 = list(\" Harold Steven \")\n",
        "print(lista_5)\n",
        "frase = \" Harold Steven Mrtinez Guarin \"\n",
        "lista_6 = frase.split()\n",
        "print(lista_6)"
      ],
      "metadata": {
        "colab": {
          "base_uri": "https://localhost:8080/"
        },
        "id": "a-CWxP-HMjLN",
        "outputId": "a96b0478-45be-47a8-aa3f-8df11f1c46bf"
      },
      "execution_count": 3,
      "outputs": [
        {
          "output_type": "stream",
          "name": "stdout",
          "text": [
            "['Lunes', 'Martes', 'Miercoles', 'Jueves', 'Viernes']\n",
            "['Rojo', 'Amarillo', 'Azul']\n",
            "[205.3, 187.18, 25, 310.89, 170.23, 340]\n",
            "<class 'list'>\n"
          ]
        }
      ]
    },
    {
      "cell_type": "markdown",
      "source": [
        "## Operaciones\n",
        "\n",
        "### Operador +\n",
        "\n",
        "- Concatener o pegar los elementos de una lista al fnal de otra\n",
        "\n",
        "### Oerador *\n",
        "\n",
        "- repetir la secuencia de elementtos de la lista tantas veces como lo indique el valor que acompaña el operador"
      ],
      "metadata": {
        "id": "WBYgAJQOQxdM"
      }
    },
    {
      "cell_type": "code",
      "source": [
        "dias_laborables = ['Lunes','Martes','Miercoles','Jueves','Viernes']\n",
        "\n",
        "colores_primarios = ['Rojo','Amarillo','Azul']\n",
        "\n",
        "precios =[205.30, 187.18, 25, 310.89, 170.23, 340]\n",
        "\n",
        "# Acceso a los elemenotos de una lilsta\n",
        "\n",
        "print(dias_laborables[0])\n",
        "print(dias_laborables[-1])\n",
        "print(dias_laborables[-5])\n",
        "\n",
        "# Operador +\n",
        "\n",
        "fin_semana = [\"Sabado\", \"Domingo\"]\n",
        "dias_laborables_y_fin_semana = dias_laborables + fin_semana\n",
        "print(dias_laborables_y_fin_semana)\n",
        "\n",
        "# Operador *\n",
        "Colores_repetidos = colores_primarios * 3\n",
        "print(Colores_repetidos)\n"
      ],
      "metadata": {
        "colab": {
          "base_uri": "https://localhost:8080/"
        },
        "id": "CrPwc_Q-Rern",
        "outputId": "771d0c57-c104-4445-afff-f16d7a73f7c9"
      },
      "execution_count": 8,
      "outputs": [
        {
          "output_type": "stream",
          "name": "stdout",
          "text": [
            "Lunes\n",
            "Viernes\n",
            "Lunes\n",
            "['Lunes', 'Martes', 'Miercoles', 'Jueves', 'Viernes', 'Sabado', 'Domingo']\n",
            "['Rojo', 'Amarillo', 'Azul', 'Rojo', 'Amarillo', 'Azul', 'Rojo', 'Amarillo', 'Azul']\n"
          ]
        }
      ]
    },
    {
      "cell_type": "markdown",
      "source": [
        " ## Funciones asociadas a las listas"
      ],
      "metadata": {
        "id": "oUnUIb5yUEqu"
      }
    },
    {
      "cell_type": "code",
      "source": [
        "dias_laborables = ['Lunes','Martes','Miercoles','Jueves','Viernes']\n",
        "\n",
        "colores_primarios = ['Rojo','Amarillo','Azul']\n",
        "\n",
        "precios =[205.30, 187.18, 25, 310.89, 170.23, 340]\n",
        "\n",
        "pares = list(range(0,30,2))\n",
        "\n",
        "impares = list(range(29, 0, -2))\n",
        "\n",
        "Colores_repetidos = colores_primarios * 3\n",
        "\n",
        "\n",
        "# append(): Agrega un elemento al final de la lista\n",
        "dias_laborables.append(\"Sabado\")\n",
        "print(dias_laborables)\n",
        "\n",
        "# len(): total de elementos de la lista\n",
        "print(\"total de precios = \" , len(precios))\n",
        "\n",
        "# count: cuenta el numero de veces que aparece un elemento enl lista\n",
        "print(f\"El lunes aparece {dias_laborables.count('lunes')} vez(veces )\")\n",
        "\n",
        "# insert(): agrega en la pocicion indicada\n",
        "colores_primarios.insert(1,\"Verde\")\n",
        "print(colores_primarios)\n",
        "\n",
        "# remove(): Quitael elemento de la lista. si el elmentoo esta lanza unae xcepcion\n",
        "dias_laborables.remove(\"Sabado\")\n",
        "print(dias_laborables)\n",
        "\n",
        "# sort(): Ordena la listade mayor a menor\n",
        "precios.sort()\n",
        "print(precios)\n",
        "precios.sort(reverse=True)\n",
        "print(precios)\n",
        "\n",
        "# reverse():es una función incorporada en Python que modifica directamente la lista original\n",
        "colores_primarios.reverse()\n",
        "print(colores_primarios)\n",
        "\n",
        "# pop(): borra y retorna el último elemento de una lista.\n",
        "impares.pop\n",
        "#clear():se utiliza para eliminar todos los elementos de un diccionario\n",
        "dias_laborables.clear()\n",
        "print(dias_laborables)\n",
        "# del"
      ],
      "metadata": {
        "colab": {
          "base_uri": "https://localhost:8080/"
        },
        "id": "6Kd6XILGUXU7",
        "outputId": "3076b405-142e-455f-8906-05d8ba1b7051"
      },
      "execution_count": 12,
      "outputs": [
        {
          "output_type": "stream",
          "name": "stdout",
          "text": [
            "['Lunes', 'Martes', 'Miercoles', 'Jueves', 'Viernes', 'Sabado']\n",
            "total de precios =  6\n",
            "El lunes aparece 0 vez(veces )\n",
            "['Rojo', 'Verde', 'Amarillo', 'Azul']\n",
            "['Lunes', 'Martes', 'Miercoles', 'Jueves', 'Viernes']\n",
            "[25, 170.23, 187.18, 205.3, 310.89, 340]\n",
            "[340, 310.89, 205.3, 187.18, 170.23, 25]\n"
          ]
        }
      ]
    },
    {
      "cell_type": "markdown",
      "source": [
        "## particion o diviion de ists (slicing o rebandas)\n",
        "\n",
        "- se pueden generar sublistas a partir de una lista por medio de la particion (divizion) o slicing\n",
        "- para obtener una sublista  se usa la sintaxis: ```sublista = lista [inico: final]```\n"
      ],
      "metadata": {
        "id": "DVKnuuMlf8ee"
      }
    },
    {
      "cell_type": "code",
      "source": [
        "# se crea una lista de numeros enteros\n",
        "lista_1 = [1,2,3,4,5,6]\n",
        "\n",
        "# sublista con los elementos de las pociciones 0 a la 2 iclusive\n",
        "sublista_1 = lista_1[0:3]\n",
        "print(sublista_1)\n",
        "\n",
        "# sublista con los elementos de la 0 a la 3 iclusive\n",
        "sublista_2 = lista_1[ :4]\n",
        "print(sublista_2)\n",
        "\n",
        "# sublista con los elementos de la 3 a la 5 iclusive\n",
        "ºsublista_3 = lista_1[3:]\n",
        "print(sublista_3)\n",
        "\n",
        "# sublista con los elementos  desde el incio hsta el final, con saltos de a 2\n",
        "sublista_4 = lista_1[ ::2 ]\n",
        "print(sublista_4)"
      ],
      "metadata": {
        "id": "SeX47SYXg8Xd"
      },
      "execution_count": null,
      "outputs": []
    },
    {
      "cell_type": "markdown",
      "source": [],
      "metadata": {
        "id": "Q28dw2skhSKT"
      }
    }
  ]
}